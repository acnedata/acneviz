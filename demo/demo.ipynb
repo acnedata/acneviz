{
 "cells": [
  {
   "cell_type": "code",
   "execution_count": null,
   "metadata": {},
   "outputs": [],
   "source": [
    "import pandas as pd\n",
    "import numpy as np\n",
    "from acneviz.correlation_network import CorrelationNetworkGraph, get_color_for_val\n",
    "\n",
    "import plotly.colors as colors"
   ]
  },
  {
   "cell_type": "code",
   "execution_count": null,
   "metadata": {},
   "outputs": [],
   "source": [
    "# correlatin matrix with 5 columns\n",
    "correlation_matrix = pd.DataFrame(\n",
    "    [\n",
    "        [1, np.nan, -0.3, 0.2, 0.1],\n",
    "        [np.nan, 1, -0.3, 0.2, 0.1],\n",
    "        [0.3, -0.3, 1, 0.2, 0.1],\n",
    "        [0.2, 0.2, 0.2, 1, 0.1],\n",
    "        [0.1, 0.1, 0.1, 0.1, 1],\n",
    "    ]\n",
    ")\n",
    "\n",
    "correlation_matrix.replace(1, np.nan, inplace=True)\n",
    "correlation_matrix * 100\n",
    "\n",
    "correlation_matrix.columns = [\"aarsiten\", \"bwfpn\", \"carisnti\", \"dariesnt\", \"ersnt\"]\n",
    "correlation_matrix.index = correlation_matrix.columns\n",
    "\n",
    "correlation_matrix"
   ]
  },
  {
   "cell_type": "markdown",
   "metadata": {},
   "source": []
  },
  {
   "cell_type": "code",
   "execution_count": null,
   "metadata": {},
   "outputs": [],
   "source": [
    "CorrelationNetworkGraph(correlation_matrix, background_color=\"black\").show()"
   ]
  }
 ],
 "metadata": {
  "kernelspec": {
   "display_name": "acneviz-0hBKvmtF-py3.10",
   "language": "python",
   "name": "python3"
  },
  "language_info": {
   "codemirror_mode": {
    "name": "ipython",
    "version": 3
   },
   "file_extension": ".py",
   "mimetype": "text/x-python",
   "name": "python",
   "nbconvert_exporter": "python",
   "pygments_lexer": "ipython3",
   "version": "3.10.9"
  },
  "vscode": {
   "interpreter": {
    "hash": "801939ab6d7097a031191c0114a9b95d12db54e0187b287f9f1152bca030e186"
   }
  }
 },
 "nbformat": 4,
 "nbformat_minor": 2
}
