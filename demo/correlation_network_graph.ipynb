{
 "cells": [
  {
   "cell_type": "code",
   "execution_count": null,
   "metadata": {},
   "outputs": [],
   "source": [
    "import pandas as pd\n",
    "import numpy as np\n",
    "from acneviz import CorrelationNetworkGraph"
   ]
  },
  {
   "cell_type": "code",
   "execution_count": null,
   "metadata": {},
   "outputs": [],
   "source": [
    "correlation_matrix = pd.DataFrame(\n",
    "    [\n",
    "        [1, 1, 1, 0.2, 0.1],\n",
    "        [1, 1, -0.3, 0.2, 0.1],\n",
    "        [1, -0.3, 1, 0.2, 0.1],\n",
    "        [0.2, 0.2, 0.2, 1, 0.1],\n",
    "        [0.1, 0.1, 0.1, 0.1, 1],\n",
    "    ]\n",
    ")"
   ]
  },
  {
   "cell_type": "code",
   "execution_count": null,
   "metadata": {},
   "outputs": [],
   "source": [
    "CorrelationNetworkGraph(correlation_matrix).show()"
   ]
  }
 ],
 "metadata": {
  "kernelspec": {
   "display_name": "acneviz-0hBKvmtF-py3.10",
   "language": "python",
   "name": "python3"
  },
  "language_info": {
   "codemirror_mode": {
    "name": "ipython",
    "version": 3
   },
   "file_extension": ".py",
   "mimetype": "text/x-python",
   "name": "python",
   "nbconvert_exporter": "python",
   "pygments_lexer": "ipython3",
   "version": "3.10.9"
  },
  "vscode": {
   "interpreter": {
    "hash": "801939ab6d7097a031191c0114a9b95d12db54e0187b287f9f1152bca030e186"
   }
  }
 },
 "nbformat": 4,
 "nbformat_minor": 2
}
